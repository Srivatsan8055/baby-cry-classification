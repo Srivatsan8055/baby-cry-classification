{
  "nbformat": 4,
  "nbformat_minor": 0,
  "metadata": {
    "colab": {
      "provenance": []
    },
    "kernelspec": {
      "name": "python3",
      "display_name": "Python 3"
    },
    "language_info": {
      "name": "python"
    }
  },
  "cells": [
    {
      "cell_type": "code",
      "execution_count": null,
      "metadata": {
        "colab": {
          "base_uri": "https://localhost:8080/"
        },
        "id": "X_F3IaOVRnGa",
        "outputId": "0b380a79-14e4-466b-d5c7-607da841dc03"
      },
      "outputs": [
        {
          "output_type": "stream",
          "name": "stdout",
          "text": [
            "Collecting patool\n",
            "  Downloading patool-4.0.1-py2.py3-none-any.whl.metadata (4.5 kB)\n",
            "Downloading patool-4.0.1-py2.py3-none-any.whl (86 kB)\n",
            "\u001b[2K   \u001b[90m━━━━━━━━━━━━━━━━━━━━━━━━━━━━━━━━━━━━━━━━\u001b[0m \u001b[32m86.5/86.5 kB\u001b[0m \u001b[31m1.9 MB/s\u001b[0m eta \u001b[36m0:00:00\u001b[0m\n",
            "\u001b[?25hInstalling collected packages: patool\n",
            "Successfully installed patool-4.0.1\n"
          ]
        }
      ],
      "source": [
        "pip install patool"
      ]
    },
    {
      "cell_type": "code",
      "source": [
        "import patoolib"
      ],
      "metadata": {
        "id": "DbOSuYtOSMpC"
      },
      "execution_count": null,
      "outputs": []
    },
    {
      "cell_type": "code",
      "source": [
        "patoolib.extract_archive('/content/archive (1).zip')"
      ],
      "metadata": {
        "colab": {
          "base_uri": "https://localhost:8080/",
          "height": 139
        },
        "id": "PjkQpK5nSP4z",
        "outputId": "4e040201-885c-483f-9637-34c6629712a4"
      },
      "execution_count": null,
      "outputs": [
        {
          "output_type": "stream",
          "name": "stderr",
          "text": [
            "INFO patool: Extracting /content/archive (1).zip ...\n",
            "INFO:patool:Extracting /content/archive (1).zip ...\n",
            "INFO patool: running /usr/bin/7z x -aou -o./Unpack_x52hw28y -- \"/content/archive (1).zip\"\n",
            "INFO:patool:running /usr/bin/7z x -aou -o./Unpack_x52hw28y -- \"/content/archive (1).zip\"\n",
            "INFO patool: ... /content/archive (1).zip extracted to `donateacry_corpus'.\n",
            "INFO:patool:... /content/archive (1).zip extracted to `donateacry_corpus'.\n"
          ]
        },
        {
          "output_type": "execute_result",
          "data": {
            "text/plain": [
              "'donateacry_corpus'"
            ],
            "application/vnd.google.colaboratory.intrinsic+json": {
              "type": "string"
            }
          },
          "metadata": {},
          "execution_count": 3
        }
      ]
    },
    {
      "cell_type": "code",
      "source": [
        "import numpy as np\n",
        "import pandas as pd\n",
        "import librosa\n",
        "import tensorflow as tf\n",
        "from sklearn.model_selection import train_test_split\n",
        "from sklearn.metrics import classification_report, accuracy_score\n",
        "\n",
        "import os"
      ],
      "metadata": {
        "id": "2qlvw71XScm5"
      },
      "execution_count": null,
      "outputs": []
    },
    {
      "cell_type": "code",
      "source": [
        "data_dir = \"/content/donateacry_corpus\"\n",
        "categories = [\"belly_pain\", \"burping\", \"discomfort\", \"hungry\", \"tired\"]"
      ],
      "metadata": {
        "id": "V7qR7O16SpU2"
      },
      "execution_count": null,
      "outputs": []
    },
    {
      "cell_type": "code",
      "source": [
        "data = []\n",
        "labels = []\n",
        "\n",
        "# Load audio data and label\n",
        "def load_audio_data(data_dir, categories):\n",
        "    for label, category in enumerate(categories):\n",
        "        category_path = os.path.join(data_dir, category)\n",
        "        for file_name in os.listdir(category_path):\n",
        "            file_path = os.path.join(category_path, file_name)\n",
        "            try:\n",
        "                # Load audio file and extract MFCC features\n",
        "                audio, sr = librosa.load(file_path, sr=None)\n",
        "                mfcc = librosa.feature.mfcc(y=audio, sr=sr, n_mfcc=40)\n",
        "                mfcc_scaled = np.mean(mfcc.T, axis=0)  # Take the mean across time\n",
        "                data.append(mfcc_scaled)\n",
        "                labels.append(label)\n",
        "            except Exception as e:\n",
        "                print(f\"Error loading {file_name}: {e}\")"
      ],
      "metadata": {
        "id": "slcno5O6SvRY"
      },
      "execution_count": null,
      "outputs": []
    },
    {
      "cell_type": "code",
      "source": [
        "load_audio_data(data_dir, categories)\n",
        "\n",
        "# Convert data to numpy arrays\n",
        "data = np.array(data)\n",
        "labels = np.array(labels)"
      ],
      "metadata": {
        "id": "UUcdDeYUSxVZ"
      },
      "execution_count": null,
      "outputs": []
    },
    {
      "cell_type": "code",
      "source": [
        "X_train, X_test, y_train, y_test = train_test_split(data, labels, test_size=0.2, random_state=42, stratify=labels)\n",
        "\n",
        "# Normalize the data\n",
        "X_train = X_train / np.max(np.abs(X_train))\n",
        "X_test = X_test / np.max(np.abs(X_test))"
      ],
      "metadata": {
        "id": "zkX5f8ShS1bo"
      },
      "execution_count": null,
      "outputs": []
    },
    {
      "cell_type": "code",
      "source": [
        "X_train = X_train.reshape(-1, 40, 1)\n",
        "X_test = X_test.reshape(-1, 40, 1)"
      ],
      "metadata": {
        "id": "WIc_ElaBS3BK"
      },
      "execution_count": null,
      "outputs": []
    },
    {
      "cell_type": "code",
      "source": [
        "model = tf.keras.Sequential([\n",
        "    tf.keras.layers.Conv1D(filters=32, kernel_size=3, activation='relu', input_shape=(40, 1)),\n",
        "    tf.keras.layers.MaxPooling1D(pool_size=2),\n",
        "    tf.keras.layers.Conv1D(filters=64, kernel_size=3, activation='relu'),\n",
        "    tf.keras.layers.MaxPooling1D(pool_size=2),\n",
        "    tf.keras.layers.Flatten(),\n",
        "    tf.keras.layers.Dense(64, activation='relu'),\n",
        "    tf.keras.layers.Dense(len(categories), activation='softmax')\n",
        "])\n"
      ],
      "metadata": {
        "colab": {
          "base_uri": "https://localhost:8080/"
        },
        "id": "UKmuPYG_S4BO",
        "outputId": "e30969f8-90a6-499d-97ed-33752bb4d083"
      },
      "execution_count": null,
      "outputs": [
        {
          "output_type": "stream",
          "name": "stderr",
          "text": [
            "/usr/local/lib/python3.11/dist-packages/keras/src/layers/convolutional/base_conv.py:107: UserWarning: Do not pass an `input_shape`/`input_dim` argument to a layer. When using Sequential models, prefer using an `Input(shape)` object as the first layer in the model instead.\n",
            "  super().__init__(activity_regularizer=activity_regularizer, **kwargs)\n"
          ]
        }
      ]
    },
    {
      "cell_type": "code",
      "source": [
        "model.compile(optimizer='adam', loss='sparse_categorical_crossentropy', metrics=['accuracy'])"
      ],
      "metadata": {
        "id": "Mcxj4BdHTFvb"
      },
      "execution_count": null,
      "outputs": []
    },
    {
      "cell_type": "code",
      "source": [
        "history = model.fit(X_train, y_train, epochs=30, batch_size=32, validation_data=(X_test, y_test))"
      ],
      "metadata": {
        "id": "ZXj4aoMRTIWY",
        "outputId": "49648226-92be-48ea-e314-94951ccf232b",
        "colab": {
          "base_uri": "https://localhost:8080/"
        }
      },
      "execution_count": null,
      "outputs": [
        {
          "output_type": "stream",
          "name": "stdout",
          "text": [
            "Epoch 1/30\n",
            "\u001b[1m12/12\u001b[0m \u001b[32m━━━━━━━━━━━━━━━━━━━━\u001b[0m\u001b[37m\u001b[0m \u001b[1m2s\u001b[0m 41ms/step - accuracy: 0.5860 - loss: 1.5655 - val_accuracy: 0.8370 - val_loss: 1.3095\n",
            "Epoch 2/30\n",
            "\u001b[1m12/12\u001b[0m \u001b[32m━━━━━━━━━━━━━━━━━━━━\u001b[0m\u001b[37m\u001b[0m \u001b[1m0s\u001b[0m 14ms/step - accuracy: 0.8089 - loss: 1.1505 - val_accuracy: 0.8370 - val_loss: 0.6811\n",
            "Epoch 3/30\n",
            "\u001b[1m12/12\u001b[0m \u001b[32m━━━━━━━━━━━━━━━━━━━━\u001b[0m\u001b[37m\u001b[0m \u001b[1m0s\u001b[0m 17ms/step - accuracy: 0.8239 - loss: 0.7207 - val_accuracy: 0.8370 - val_loss: 0.7099\n",
            "Epoch 4/30\n",
            "\u001b[1m12/12\u001b[0m \u001b[32m━━━━━━━━━━━━━━━━━━━━\u001b[0m\u001b[37m\u001b[0m \u001b[1m0s\u001b[0m 15ms/step - accuracy: 0.8465 - loss: 0.6443 - val_accuracy: 0.8370 - val_loss: 0.6658\n",
            "Epoch 5/30\n",
            "\u001b[1m12/12\u001b[0m \u001b[32m━━━━━━━━━━━━━━━━━━━━\u001b[0m\u001b[37m\u001b[0m \u001b[1m0s\u001b[0m 15ms/step - accuracy: 0.8166 - loss: 0.7202 - val_accuracy: 0.8370 - val_loss: 0.6594\n",
            "Epoch 6/30\n",
            "\u001b[1m12/12\u001b[0m \u001b[32m━━━━━━━━━━━━━━━━━━━━\u001b[0m\u001b[37m\u001b[0m \u001b[1m0s\u001b[0m 17ms/step - accuracy: 0.8501 - loss: 0.6254 - val_accuracy: 0.8370 - val_loss: 0.6625\n",
            "Epoch 7/30\n",
            "\u001b[1m12/12\u001b[0m \u001b[32m━━━━━━━━━━━━━━━━━━━━\u001b[0m\u001b[37m\u001b[0m \u001b[1m0s\u001b[0m 9ms/step - accuracy: 0.8210 - loss: 0.7117 - val_accuracy: 0.8370 - val_loss: 0.6617\n",
            "Epoch 8/30\n",
            "\u001b[1m12/12\u001b[0m \u001b[32m━━━━━━━━━━━━━━━━━━━━\u001b[0m\u001b[37m\u001b[0m \u001b[1m0s\u001b[0m 12ms/step - accuracy: 0.8206 - loss: 0.6979 - val_accuracy: 0.8370 - val_loss: 0.6646\n",
            "Epoch 9/30\n",
            "\u001b[1m12/12\u001b[0m \u001b[32m━━━━━━━━━━━━━━━━━━━━\u001b[0m\u001b[37m\u001b[0m \u001b[1m0s\u001b[0m 10ms/step - accuracy: 0.8274 - loss: 0.6875 - val_accuracy: 0.8370 - val_loss: 0.6612\n",
            "Epoch 10/30\n",
            "\u001b[1m12/12\u001b[0m \u001b[32m━━━━━━━━━━━━━━━━━━━━\u001b[0m\u001b[37m\u001b[0m \u001b[1m0s\u001b[0m 9ms/step - accuracy: 0.8254 - loss: 0.6928 - val_accuracy: 0.8370 - val_loss: 0.6633\n",
            "Epoch 11/30\n",
            "\u001b[1m12/12\u001b[0m \u001b[32m━━━━━━━━━━━━━━━━━━━━\u001b[0m\u001b[37m\u001b[0m \u001b[1m0s\u001b[0m 9ms/step - accuracy: 0.8548 - loss: 0.5986 - val_accuracy: 0.8370 - val_loss: 0.6607\n",
            "Epoch 12/30\n",
            "\u001b[1m12/12\u001b[0m \u001b[32m━━━━━━━━━━━━━━━━━━━━\u001b[0m\u001b[37m\u001b[0m \u001b[1m0s\u001b[0m 9ms/step - accuracy: 0.8656 - loss: 0.5719 - val_accuracy: 0.8370 - val_loss: 0.6603\n",
            "Epoch 13/30\n",
            "\u001b[1m12/12\u001b[0m \u001b[32m━━━━━━━━━━━━━━━━━━━━\u001b[0m\u001b[37m\u001b[0m \u001b[1m0s\u001b[0m 9ms/step - accuracy: 0.8100 - loss: 0.7427 - val_accuracy: 0.8370 - val_loss: 0.6600\n",
            "Epoch 14/30\n",
            "\u001b[1m12/12\u001b[0m \u001b[32m━━━━━━━━━━━━━━━━━━━━\u001b[0m\u001b[37m\u001b[0m \u001b[1m0s\u001b[0m 9ms/step - accuracy: 0.8254 - loss: 0.6979 - val_accuracy: 0.8370 - val_loss: 0.6648\n",
            "Epoch 15/30\n",
            "\u001b[1m12/12\u001b[0m \u001b[32m━━━━━━━━━━━━━━━━━━━━\u001b[0m\u001b[37m\u001b[0m \u001b[1m0s\u001b[0m 12ms/step - accuracy: 0.8359 - loss: 0.6731 - val_accuracy: 0.8370 - val_loss: 0.6626\n",
            "Epoch 16/30\n",
            "\u001b[1m12/12\u001b[0m \u001b[32m━━━━━━━━━━━━━━━━━━━━\u001b[0m\u001b[37m\u001b[0m \u001b[1m0s\u001b[0m 9ms/step - accuracy: 0.8454 - loss: 0.6370 - val_accuracy: 0.8370 - val_loss: 0.6609\n",
            "Epoch 17/30\n",
            "\u001b[1m12/12\u001b[0m \u001b[32m━━━━━━━━━━━━━━━━━━━━\u001b[0m\u001b[37m\u001b[0m \u001b[1m0s\u001b[0m 9ms/step - accuracy: 0.8631 - loss: 0.5852 - val_accuracy: 0.8370 - val_loss: 0.6612\n",
            "Epoch 18/30\n",
            "\u001b[1m12/12\u001b[0m \u001b[32m━━━━━━━━━━━━━━━━━━━━\u001b[0m\u001b[37m\u001b[0m \u001b[1m0s\u001b[0m 12ms/step - accuracy: 0.8377 - loss: 0.6525 - val_accuracy: 0.8370 - val_loss: 0.6613\n",
            "Epoch 19/30\n",
            "\u001b[1m12/12\u001b[0m \u001b[32m━━━━━━━━━━━━━━━━━━━━\u001b[0m\u001b[37m\u001b[0m \u001b[1m0s\u001b[0m 9ms/step - accuracy: 0.8408 - loss: 0.6385 - val_accuracy: 0.8370 - val_loss: 0.6611\n",
            "Epoch 20/30\n",
            "\u001b[1m12/12\u001b[0m \u001b[32m━━━━━━━━━━━━━━━━━━━━\u001b[0m\u001b[37m\u001b[0m \u001b[1m0s\u001b[0m 9ms/step - accuracy: 0.8280 - loss: 0.6812 - val_accuracy: 0.8370 - val_loss: 0.6608\n",
            "Epoch 21/30\n",
            "\u001b[1m12/12\u001b[0m \u001b[32m━━━━━━━━━━━━━━━━━━━━\u001b[0m\u001b[37m\u001b[0m \u001b[1m0s\u001b[0m 9ms/step - accuracy: 0.8010 - loss: 0.7543 - val_accuracy: 0.8370 - val_loss: 0.6611\n",
            "Epoch 22/30\n",
            "\u001b[1m12/12\u001b[0m \u001b[32m━━━━━━━━━━━━━━━━━━━━\u001b[0m\u001b[37m\u001b[0m \u001b[1m0s\u001b[0m 9ms/step - accuracy: 0.8255 - loss: 0.6868 - val_accuracy: 0.8370 - val_loss: 0.6600\n",
            "Epoch 23/30\n",
            "\u001b[1m12/12\u001b[0m \u001b[32m━━━━━━━━━━━━━━━━━━━━\u001b[0m\u001b[37m\u001b[0m \u001b[1m0s\u001b[0m 14ms/step - accuracy: 0.8343 - loss: 0.6618 - val_accuracy: 0.8370 - val_loss: 0.6597\n",
            "Epoch 24/30\n",
            "\u001b[1m12/12\u001b[0m \u001b[32m━━━━━━━━━━━━━━━━━━━━\u001b[0m\u001b[37m\u001b[0m \u001b[1m0s\u001b[0m 9ms/step - accuracy: 0.8402 - loss: 0.6529 - val_accuracy: 0.8370 - val_loss: 0.6600\n",
            "Epoch 25/30\n",
            "\u001b[1m12/12\u001b[0m \u001b[32m━━━━━━━━━━━━━━━━━━━━\u001b[0m\u001b[37m\u001b[0m \u001b[1m0s\u001b[0m 9ms/step - accuracy: 0.8117 - loss: 0.7237 - val_accuracy: 0.8370 - val_loss: 0.6610\n",
            "Epoch 26/30\n",
            "\u001b[1m12/12\u001b[0m \u001b[32m━━━━━━━━━━━━━━━━━━━━\u001b[0m\u001b[37m\u001b[0m \u001b[1m0s\u001b[0m 9ms/step - accuracy: 0.8357 - loss: 0.6572 - val_accuracy: 0.8370 - val_loss: 0.6606\n",
            "Epoch 27/30\n",
            "\u001b[1m12/12\u001b[0m \u001b[32m━━━━━━━━━━━━━━━━━━━━\u001b[0m\u001b[37m\u001b[0m \u001b[1m0s\u001b[0m 9ms/step - accuracy: 0.8228 - loss: 0.7041 - val_accuracy: 0.8370 - val_loss: 0.6599\n",
            "Epoch 28/30\n",
            "\u001b[1m12/12\u001b[0m \u001b[32m━━━━━━━━━━━━━━━━━━━━\u001b[0m\u001b[37m\u001b[0m \u001b[1m0s\u001b[0m 9ms/step - accuracy: 0.8417 - loss: 0.6391 - val_accuracy: 0.8370 - val_loss: 0.6602\n",
            "Epoch 29/30\n",
            "\u001b[1m12/12\u001b[0m \u001b[32m━━━━━━━━━━━━━━━━━━━━\u001b[0m\u001b[37m\u001b[0m \u001b[1m0s\u001b[0m 13ms/step - accuracy: 0.8385 - loss: 0.6571 - val_accuracy: 0.8370 - val_loss: 0.6604\n",
            "Epoch 30/30\n",
            "\u001b[1m12/12\u001b[0m \u001b[32m━━━━━━━━━━━━━━━━━━━━\u001b[0m\u001b[37m\u001b[0m \u001b[1m0s\u001b[0m 13ms/step - accuracy: 0.8504 - loss: 0.6185 - val_accuracy: 0.8370 - val_loss: 0.6605\n"
          ]
        }
      ]
    },
    {
      "cell_type": "code",
      "source": [
        "y_pred = np.argmax(model.predict(X_test), axis=1)\n",
        "print(\"Classification Report:\\n\", classification_report(y_test, y_pred, target_names=categories))\n",
        "print(\"Accuracy Score:\", accuracy_score(y_test, y_pred))"
      ],
      "metadata": {
        "id": "11CxiJhlTK7w",
        "outputId": "e6be41ef-fe6f-43be-f300-ea7f0b734a79",
        "colab": {
          "base_uri": "https://localhost:8080/"
        }
      },
      "execution_count": null,
      "outputs": [
        {
          "output_type": "stream",
          "name": "stdout",
          "text": [
            "\u001b[1m3/3\u001b[0m \u001b[32m━━━━━━━━━━━━━━━━━━━━\u001b[0m\u001b[37m\u001b[0m \u001b[1m0s\u001b[0m 114ms/step\n",
            "Classification Report:\n",
            "               precision    recall  f1-score   support\n",
            "\n",
            "  belly_pain       0.00      0.00      0.00         3\n",
            "     burping       0.00      0.00      0.00         2\n",
            "  discomfort       0.00      0.00      0.00         5\n",
            "      hungry       0.84      1.00      0.91        77\n",
            "       tired       0.00      0.00      0.00         5\n",
            "\n",
            "    accuracy                           0.84        92\n",
            "   macro avg       0.17      0.20      0.18        92\n",
            "weighted avg       0.70      0.84      0.76        92\n",
            "\n",
            "Accuracy Score: 0.8369565217391305\n"
          ]
        },
        {
          "output_type": "stream",
          "name": "stderr",
          "text": [
            "/usr/local/lib/python3.11/dist-packages/sklearn/metrics/_classification.py:1565: UndefinedMetricWarning: Precision is ill-defined and being set to 0.0 in labels with no predicted samples. Use `zero_division` parameter to control this behavior.\n",
            "  _warn_prf(average, modifier, f\"{metric.capitalize()} is\", len(result))\n",
            "/usr/local/lib/python3.11/dist-packages/sklearn/metrics/_classification.py:1565: UndefinedMetricWarning: Precision is ill-defined and being set to 0.0 in labels with no predicted samples. Use `zero_division` parameter to control this behavior.\n",
            "  _warn_prf(average, modifier, f\"{metric.capitalize()} is\", len(result))\n",
            "/usr/local/lib/python3.11/dist-packages/sklearn/metrics/_classification.py:1565: UndefinedMetricWarning: Precision is ill-defined and being set to 0.0 in labels with no predicted samples. Use `zero_division` parameter to control this behavior.\n",
            "  _warn_prf(average, modifier, f\"{metric.capitalize()} is\", len(result))\n"
          ]
        }
      ]
    }
  ]
}